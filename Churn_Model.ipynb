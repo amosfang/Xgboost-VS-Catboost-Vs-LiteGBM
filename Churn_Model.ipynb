{
  "nbformat": 4,
  "nbformat_minor": 0,
  "metadata": {
    "colab": {
      "name": "Churn_Model",
      "version": "0.3.2",
      "views": {},
      "default_view": {},
      "provenance": [],
      "collapsed_sections": []
    },
    "kernelspec": {
      "name": "python3",
      "display_name": "Python 3"
    }
  },
  "cells": [
    {
      "metadata": {
        "id": "9x-uJLH45UZC",
        "colab_type": "code",
        "colab": {
          "autoexec": {
            "startup": false,
            "wait_interval": 0
          },
          "output_extras": [
            {
              "item_id": 1
            },
            {
              "item_id": 2
            }
          ],
          "resources": {
            "http://localhost:8080/nbextensions/google.colab/files.js": {
              "data": "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",
              "ok": true,
              "headers": [
                [
                  "content-type",
                  "application/javascript"
                ]
              ],
              "status": 200,
              "status_text": ""
            }
          },
          "base_uri": "https://localhost:8080/",
          "height": 73
        },
        "outputId": "5342dc5f-7b03-4c40-b2be-6ede945145b1",
        "executionInfo": {
          "status": "ok",
          "timestamp": 1519015340577,
          "user_tz": 300,
          "elapsed": 10612,
          "user": {
            "displayName": "Rishanki Jain",
            "photoUrl": "//lh5.googleusercontent.com/-DItHz0PUQDw/AAAAAAAAAAI/AAAAAAAABZw/1564nQi-Zp4/s50-c-k-no/photo.jpg",
            "userId": "105210915059546614784"
          }
        }
      },
      "cell_type": "code",
      "source": [
        "from google.colab import files\n",
        "\n",
        "uploaded = files.upload()\n",
        "\n",
        "for fn in uploaded.keys():\n",
        "  print('User uploaded file \"{name}\" with length {length} bytes'.format(\n",
        "      name=fn, length=len(uploaded[fn])))"
      ],
      "execution_count": 6,
      "outputs": [
        {
          "output_type": "display_data",
          "data": {
            "text/html": [
              "\n",
              "     <input type=\"file\" id=\"files-7df006ce-06de-47dd-8e83-b46bc7f95d18\" name=\"files[]\" multiple disabled />\n",
              "     <output id=\"result-7df006ce-06de-47dd-8e83-b46bc7f95d18\">\n",
              "      Upload widget is only available when the cell has been executed in the\n",
              "      current browser session. Please rerun this cell to enable.\n",
              "      </output>\n",
              "      <script src=\"/nbextensions/google.colab/files.js\"</script> "
            ],
            "text/plain": [
              "<IPython.core.display.HTML object>"
            ]
          },
          "metadata": {
            "tags": []
          }
        },
        {
          "output_type": "stream",
          "text": [
            "User uploaded file \"WA_Fn-UseC_-Telco-Customer-Churn.csv\" with length 977501 bytes\n"
          ],
          "name": "stdout"
        }
      ]
    },
    {
      "metadata": {
        "id": "QTqI_HaxRsE4",
        "colab_type": "text"
      },
      "cell_type": "markdown",
      "source": [
        "Importing the file"
      ]
    },
    {
      "metadata": {
        "id": "5aZRAoVN6JVJ",
        "colab_type": "code",
        "colab": {
          "autoexec": {
            "startup": false,
            "wait_interval": 0
          },
          "output_extras": [
            {
              "item_id": 1
            }
          ],
          "base_uri": "https://localhost:8080/",
          "height": 338
        },
        "outputId": "6a53e48d-c091-4ed5-95ad-8032af2eac95",
        "executionInfo": {
          "status": "ok",
          "timestamp": 1519015343101,
          "user_tz": 300,
          "elapsed": 300,
          "user": {
            "displayName": "Rishanki Jain",
            "photoUrl": "//lh5.googleusercontent.com/-DItHz0PUQDw/AAAAAAAAAAI/AAAAAAAABZw/1564nQi-Zp4/s50-c-k-no/photo.jpg",
            "userId": "105210915059546614784"
          }
        }
      },
      "cell_type": "code",
      "source": [
        "import pandas as pd\n",
        "import io\n",
        "import numpy as np\n",
        "\n",
        "df= pd.read_csv(io.StringIO(uploaded['WA_Fn-UseC_-Telco-Customer-Churn.csv'].decode('utf-8')))\n",
        "\n",
        "df.head(5)"
      ],
      "execution_count": 7,
      "outputs": [
        {
          "output_type": "execute_result",
          "data": {
            "text/html": [
              "<div>\n",
              "<style scoped>\n",
              "    .dataframe tbody tr th:only-of-type {\n",
              "        vertical-align: middle;\n",
              "    }\n",
              "\n",
              "    .dataframe tbody tr th {\n",
              "        vertical-align: top;\n",
              "    }\n",
              "\n",
              "    .dataframe thead th {\n",
              "        text-align: right;\n",
              "    }\n",
              "</style>\n",
              "<table border=\"1\" class=\"dataframe\">\n",
              "  <thead>\n",
              "    <tr style=\"text-align: right;\">\n",
              "      <th></th>\n",
              "      <th>customerID</th>\n",
              "      <th>gender</th>\n",
              "      <th>SeniorCitizen</th>\n",
              "      <th>Partner</th>\n",
              "      <th>Dependents</th>\n",
              "      <th>tenure</th>\n",
              "      <th>PhoneService</th>\n",
              "      <th>MultipleLines</th>\n",
              "      <th>InternetService</th>\n",
              "      <th>OnlineSecurity</th>\n",
              "      <th>...</th>\n",
              "      <th>DeviceProtection</th>\n",
              "      <th>TechSupport</th>\n",
              "      <th>StreamingTV</th>\n",
              "      <th>StreamingMovies</th>\n",
              "      <th>Contract</th>\n",
              "      <th>PaperlessBilling</th>\n",
              "      <th>PaymentMethod</th>\n",
              "      <th>MonthlyCharges</th>\n",
              "      <th>TotalCharges</th>\n",
              "      <th>Churn</th>\n",
              "    </tr>\n",
              "  </thead>\n",
              "  <tbody>\n",
              "    <tr>\n",
              "      <th>0</th>\n",
              "      <td>7590-VHVEG</td>\n",
              "      <td>Female</td>\n",
              "      <td>0</td>\n",
              "      <td>Yes</td>\n",
              "      <td>No</td>\n",
              "      <td>1</td>\n",
              "      <td>No</td>\n",
              "      <td>No phone service</td>\n",
              "      <td>DSL</td>\n",
              "      <td>No</td>\n",
              "      <td>...</td>\n",
              "      <td>No</td>\n",
              "      <td>No</td>\n",
              "      <td>No</td>\n",
              "      <td>No</td>\n",
              "      <td>Month-to-month</td>\n",
              "      <td>Yes</td>\n",
              "      <td>Electronic check</td>\n",
              "      <td>29.85</td>\n",
              "      <td>29.85</td>\n",
              "      <td>No</td>\n",
              "    </tr>\n",
              "    <tr>\n",
              "      <th>1</th>\n",
              "      <td>5575-GNVDE</td>\n",
              "      <td>Male</td>\n",
              "      <td>0</td>\n",
              "      <td>No</td>\n",
              "      <td>No</td>\n",
              "      <td>34</td>\n",
              "      <td>Yes</td>\n",
              "      <td>No</td>\n",
              "      <td>DSL</td>\n",
              "      <td>Yes</td>\n",
              "      <td>...</td>\n",
              "      <td>Yes</td>\n",
              "      <td>No</td>\n",
              "      <td>No</td>\n",
              "      <td>No</td>\n",
              "      <td>One year</td>\n",
              "      <td>No</td>\n",
              "      <td>Mailed check</td>\n",
              "      <td>56.95</td>\n",
              "      <td>1889.5</td>\n",
              "      <td>No</td>\n",
              "    </tr>\n",
              "    <tr>\n",
              "      <th>2</th>\n",
              "      <td>3668-QPYBK</td>\n",
              "      <td>Male</td>\n",
              "      <td>0</td>\n",
              "      <td>No</td>\n",
              "      <td>No</td>\n",
              "      <td>2</td>\n",
              "      <td>Yes</td>\n",
              "      <td>No</td>\n",
              "      <td>DSL</td>\n",
              "      <td>Yes</td>\n",
              "      <td>...</td>\n",
              "      <td>No</td>\n",
              "      <td>No</td>\n",
              "      <td>No</td>\n",
              "      <td>No</td>\n",
              "      <td>Month-to-month</td>\n",
              "      <td>Yes</td>\n",
              "      <td>Mailed check</td>\n",
              "      <td>53.85</td>\n",
              "      <td>108.15</td>\n",
              "      <td>Yes</td>\n",
              "    </tr>\n",
              "    <tr>\n",
              "      <th>3</th>\n",
              "      <td>7795-CFOCW</td>\n",
              "      <td>Male</td>\n",
              "      <td>0</td>\n",
              "      <td>No</td>\n",
              "      <td>No</td>\n",
              "      <td>45</td>\n",
              "      <td>No</td>\n",
              "      <td>No phone service</td>\n",
              "      <td>DSL</td>\n",
              "      <td>Yes</td>\n",
              "      <td>...</td>\n",
              "      <td>Yes</td>\n",
              "      <td>Yes</td>\n",
              "      <td>No</td>\n",
              "      <td>No</td>\n",
              "      <td>One year</td>\n",
              "      <td>No</td>\n",
              "      <td>Bank transfer (automatic)</td>\n",
              "      <td>42.30</td>\n",
              "      <td>1840.75</td>\n",
              "      <td>No</td>\n",
              "    </tr>\n",
              "    <tr>\n",
              "      <th>4</th>\n",
              "      <td>9237-HQITU</td>\n",
              "      <td>Female</td>\n",
              "      <td>0</td>\n",
              "      <td>No</td>\n",
              "      <td>No</td>\n",
              "      <td>2</td>\n",
              "      <td>Yes</td>\n",
              "      <td>No</td>\n",
              "      <td>Fiber optic</td>\n",
              "      <td>No</td>\n",
              "      <td>...</td>\n",
              "      <td>No</td>\n",
              "      <td>No</td>\n",
              "      <td>No</td>\n",
              "      <td>No</td>\n",
              "      <td>Month-to-month</td>\n",
              "      <td>Yes</td>\n",
              "      <td>Electronic check</td>\n",
              "      <td>70.70</td>\n",
              "      <td>151.65</td>\n",
              "      <td>Yes</td>\n",
              "    </tr>\n",
              "  </tbody>\n",
              "</table>\n",
              "<p>5 rows × 21 columns</p>\n",
              "</div>"
            ],
            "text/plain": [
              "   customerID  gender  SeniorCitizen Partner Dependents  tenure PhoneService  \\\n",
              "0  7590-VHVEG  Female              0     Yes         No       1           No   \n",
              "1  5575-GNVDE    Male              0      No         No      34          Yes   \n",
              "2  3668-QPYBK    Male              0      No         No       2          Yes   \n",
              "3  7795-CFOCW    Male              0      No         No      45           No   \n",
              "4  9237-HQITU  Female              0      No         No       2          Yes   \n",
              "\n",
              "      MultipleLines InternetService OnlineSecurity  ...  DeviceProtection  \\\n",
              "0  No phone service             DSL             No  ...                No   \n",
              "1                No             DSL            Yes  ...               Yes   \n",
              "2                No             DSL            Yes  ...                No   \n",
              "3  No phone service             DSL            Yes  ...               Yes   \n",
              "4                No     Fiber optic             No  ...                No   \n",
              "\n",
              "  TechSupport StreamingTV StreamingMovies        Contract PaperlessBilling  \\\n",
              "0          No          No              No  Month-to-month              Yes   \n",
              "1          No          No              No        One year               No   \n",
              "2          No          No              No  Month-to-month              Yes   \n",
              "3         Yes          No              No        One year               No   \n",
              "4          No          No              No  Month-to-month              Yes   \n",
              "\n",
              "               PaymentMethod MonthlyCharges  TotalCharges Churn  \n",
              "0           Electronic check          29.85         29.85    No  \n",
              "1               Mailed check          56.95        1889.5    No  \n",
              "2               Mailed check          53.85        108.15   Yes  \n",
              "3  Bank transfer (automatic)          42.30       1840.75    No  \n",
              "4           Electronic check          70.70        151.65   Yes  \n",
              "\n",
              "[5 rows x 21 columns]"
            ]
          },
          "metadata": {
            "tags": []
          },
          "execution_count": 7
        }
      ]
    },
    {
      "metadata": {
        "id": "eosNYf25Q7RR",
        "colab_type": "text"
      },
      "cell_type": "markdown",
      "source": [
        "Identifying datatypes and saving into arrays(Categorical/Numerical)"
      ]
    },
    {
      "metadata": {
        "id": "aS2WPKNMXw2_",
        "colab_type": "code",
        "colab": {
          "autoexec": {
            "startup": false,
            "wait_interval": 0
          }
        }
      },
      "cell_type": "code",
      "source": [
        "df = df.drop(['customerID'],axis=1)\n",
        "vars=df.dtypes\n",
        "categorical=[]\n",
        "numeric=[]\n",
        "for i in range(0,len(vars)):\n",
        "    if vars[i]==\"object\": \n",
        "        categorical.append(df.columns[i])\n",
        "    else:\n",
        "        numeric.append(df.columns[i]) "
      ],
      "execution_count": 0,
      "outputs": []
    },
    {
      "metadata": {
        "id": "WnFQFLTpRcQR",
        "colab_type": "text"
      },
      "cell_type": "markdown",
      "source": [
        "Label Encoding of categorical variables"
      ]
    },
    {
      "metadata": {
        "id": "U5PeRsWb7dCF",
        "colab_type": "code",
        "colab": {
          "autoexec": {
            "startup": false,
            "wait_interval": 0
          }
        }
      },
      "cell_type": "code",
      "source": [
        "from sklearn.preprocessing import LabelEncoder\n",
        "import numpy as np\n",
        "\n",
        "df1=df[categorical].apply(LabelEncoder().fit_transform)\n",
        "df2=df[numeric]\n",
        "df3=pd.concat([df1, df2], axis=1)\n",
        "df3['TotalCharges']=df3['TotalCharges'].astype(float)\n",
        "\n"
      ],
      "execution_count": 0,
      "outputs": []
    },
    {
      "metadata": {
        "id": "vORcMLrhRXky",
        "colab_type": "text"
      },
      "cell_type": "markdown",
      "source": [
        "Splitting the data in train and test"
      ]
    },
    {
      "metadata": {
        "id": "xLjyszzO7dg8",
        "colab_type": "code",
        "colab": {
          "autoexec": {
            "startup": false,
            "wait_interval": 0
          }
        }
      },
      "cell_type": "code",
      "source": [
        "from sklearn.model_selection import train_test_split\n",
        "train, test = train_test_split(df3, test_size=0.2)\n",
        "Churn_X =train['Churn'] \n",
        "train = train.drop(['Churn'],axis=1)\n",
        "Churn_Y =test['Churn'] \n",
        "test = test.drop(['Churn'],axis=1)\n"
      ],
      "execution_count": 0,
      "outputs": []
    },
    {
      "metadata": {
        "id": "r4apBb7FRRBC",
        "colab_type": "text"
      },
      "cell_type": "markdown",
      "source": [
        "Xgboost Run\n"
      ]
    },
    {
      "metadata": {
        "id": "rlSov7nNQ4Ua",
        "colab_type": "code",
        "colab": {
          "autoexec": {
            "startup": false,
            "wait_interval": 0
          }
        }
      },
      "cell_type": "code",
      "source": [
        "# https://github.com/dmlc/xgboost\n",
        "# This specific version is a work-around for a build issue in newer versions.\n",
        "!pip install -q xgboost==0.4a30\n",
        "import xgboost"
      ],
      "execution_count": 0,
      "outputs": []
    },
    {
      "metadata": {
        "id": "SY_xcjIe_2SN",
        "colab_type": "code",
        "colab": {
          "autoexec": {
            "startup": false,
            "wait_interval": 0
          }
        }
      },
      "cell_type": "code",
      "source": [
        "\n",
        "import xgboost as xgb\n",
        "gbm = xgb.XGBClassifier(max_depth=3, n_estimators=300, learning_rate=0.05).fit(train,Churn_X)\n",
        "predictions = gbm.predict(test)\n",
        "from sklearn.metrics import accuracy_score\n",
        "accuracy_score(Churn_Y, predictions)"
      ],
      "execution_count": 0,
      "outputs": []
    },
    {
      "metadata": {
        "id": "3m7f4cHy7RRB",
        "colab_type": "text"
      },
      "cell_type": "markdown",
      "source": [
        "Catboost Run"
      ]
    },
    {
      "metadata": {
        "id": "A9Dld81MTcSz",
        "colab_type": "code",
        "colab": {
          "autoexec": {
            "startup": false,
            "wait_interval": 0
          }
        }
      },
      "cell_type": "code",
      "source": [
        "!pip install -q catboost\n",
        "import catboost\n",
        "!pip install -q ipywidgets\n",
        "import ipywidgets\n"
      ],
      "execution_count": 0,
      "outputs": []
    },
    {
      "metadata": {
        "id": "sjQKcwSp6vup",
        "colab_type": "code",
        "colab": {
          "autoexec": {
            "startup": false,
            "wait_interval": 0
          }
        }
      },
      "cell_type": "code",
      "source": [
        "categorical_features_indices = np.where(train.dtypes != np.float)[0]\n",
        "categorical_features_indices"
      ],
      "execution_count": 0,
      "outputs": []
    },
    {
      "metadata": {
        "id": "efSBREwQ27qo",
        "colab_type": "code",
        "colab": {
          "autoexec": {
            "startup": false,
            "wait_interval": 0
          }
        }
      },
      "cell_type": "code",
      "source": [
        "from catboost import CatBoostClassifier\n",
        "model = CatBoostClassifier(iterations=1200, learning_rate=0.02, depth=7, loss_function='Logloss', eval_metric='AUC', random_seed=99, od_type='Iter', od_wait=100) \n",
        "model.fit(train, Churn_X,cat_features=categorical_features_indices,eval_set=(test, Churn_Y),plot=True)"
      ],
      "execution_count": 0,
      "outputs": []
    },
    {
      "metadata": {
        "id": "rh2i7_aqFiRM",
        "colab_type": "code",
        "colab": {
          "autoexec": {
            "startup": false,
            "wait_interval": 0
          }
        }
      },
      "cell_type": "code",
      "source": [
        "preds_class = model.predict(test)\n",
        "preds_proba = model.predict_proba(test)\n",
        "print(\"class = \", preds_class)\n",
        "print(\"proba = \", preds_proba)\n",
        "from sklearn.metrics import accuracy_score\n",
        "accuracy_score(Churn_Y, preds_class)"
      ],
      "execution_count": 0,
      "outputs": []
    },
    {
      "metadata": {
        "id": "HQGRDfXVHw51",
        "colab_type": "text"
      },
      "cell_type": "markdown",
      "source": [
        "LiteGBM Run"
      ]
    },
    {
      "metadata": {
        "id": "j17dlAsoH7ya",
        "colab_type": "code",
        "colab": {
          "autoexec": {
            "startup": false,
            "wait_interval": 0
          }
        }
      },
      "cell_type": "code",
      "source": [
        "!pip install -q lightgbm\n",
        "import lightgbm"
      ],
      "execution_count": 0,
      "outputs": []
    },
    {
      "metadata": {
        "id": "3WE1se9iOO8h",
        "colab_type": "code",
        "colab": {
          "autoexec": {
            "startup": false,
            "wait_interval": 0
          }
        }
      },
      "cell_type": "code",
      "source": [
        "from lightgbm import LGBMClassifier\n",
        "model = LGBMClassifier(boosting_type='gbdt', objective='binary',\n",
        "                       num_class=1,early_stopping = 50,num_iteration=10000,num_leaves=31,\n",
        "                       is_enable_sparse='true',tree_learner='data',min_data_in_leaf=400,max_depth=8,\n",
        "                       learning_rate=0.1, n_estimators=100, max_bin=255, subsample_for_bin=50000, \n",
        "                       min_split_gain=5, min_child_weight=5, min_child_samples=10, subsample=0.995, \n",
        "                       subsample_freq=1, colsample_bytree=1, reg_alpha=0, \n",
        "                       reg_lambda=0, seed=0, nthread=-1, silent=True)"
      ],
      "execution_count": 0,
      "outputs": []
    },
    {
      "metadata": {
        "id": "Xvj9eImJR1MC",
        "colab_type": "code",
        "colab": {
          "autoexec": {
            "startup": false,
            "wait_interval": 0
          },
          "output_extras": [
            {
              "item_id": 1
            },
            {
              "item_id": 2
            },
            {
              "item_id": 3
            }
          ],
          "base_uri": "https://localhost:8080/",
          "height": 1906
        },
        "outputId": "2a0e214a-da42-47fa-f3b7-e7ab87b47a98",
        "executionInfo": {
          "status": "ok",
          "timestamp": 1519017328905,
          "user_tz": 300,
          "elapsed": 605,
          "user": {
            "displayName": "Rishanki Jain",
            "photoUrl": "//lh5.googleusercontent.com/-DItHz0PUQDw/AAAAAAAAAAI/AAAAAAAABZw/1564nQi-Zp4/s50-c-k-no/photo.jpg",
            "userId": "105210915059546614784"
          }
        }
      },
      "cell_type": "code",
      "source": [
        "model.fit(train, Churn_X, eval_set=[(test, Churn_Y)],eval_metric='l1',\n",
        "        early_stopping_rounds=5)\n"
      ],
      "execution_count": 35,
      "outputs": [
        {
          "output_type": "stream",
          "text": [
            "/usr/local/lib/python3.6/dist-packages/lightgbm/engine.py:99: UserWarning: Found `num_iteration` in params. Will use it instead of argument\n",
            "  warnings.warn(\"Found `{}` in params. Will use it instead of argument\".format(alias))\n",
            "/usr/local/lib/python3.6/dist-packages/lightgbm/engine.py:104: UserWarning: Found `early_stopping` in params. Will use it instead of argument\n",
            "  warnings.warn(\"Found `{}` in params. Will use it instead of argument\".format(alias))\n"
          ],
          "name": "stderr"
        },
        {
          "output_type": "stream",
          "text": [
            "[1]\tvalid_0's l1: 0.478227\n",
            "Training until validation scores don't improve for 50 rounds.\n",
            "[2]\tvalid_0's l1: 0.459088\n",
            "[3]\tvalid_0's l1: 0.441806\n",
            "[4]\tvalid_0's l1: 0.426109\n",
            "[5]\tvalid_0's l1: 0.412026\n",
            "[6]\tvalid_0's l1: 0.39882\n",
            "[7]\tvalid_0's l1: 0.387549\n",
            "[8]\tvalid_0's l1: 0.377056\n",
            "[9]\tvalid_0's l1: 0.367672\n",
            "[10]\tvalid_0's l1: 0.359733\n",
            "[11]\tvalid_0's l1: 0.35159\n",
            "[12]\tvalid_0's l1: 0.344207\n",
            "[13]\tvalid_0's l1: 0.338304\n",
            "[14]\tvalid_0's l1: 0.332377\n",
            "[15]\tvalid_0's l1: 0.326728\n",
            "[16]\tvalid_0's l1: 0.321894\n",
            "[17]\tvalid_0's l1: 0.317462\n",
            "[18]\tvalid_0's l1: 0.313501\n",
            "[19]\tvalid_0's l1: 0.309561\n",
            "[20]\tvalid_0's l1: 0.305935\n",
            "[21]\tvalid_0's l1: 0.302916\n",
            "[22]\tvalid_0's l1: 0.299706\n",
            "[23]\tvalid_0's l1: 0.296539\n",
            "[24]\tvalid_0's l1: 0.293983\n",
            "[25]\tvalid_0's l1: 0.291652\n",
            "[26]\tvalid_0's l1: 0.289648\n",
            "[27]\tvalid_0's l1: 0.287891\n",
            "[28]\tvalid_0's l1: 0.286073\n",
            "[29]\tvalid_0's l1: 0.284406\n",
            "[30]\tvalid_0's l1: 0.282737\n",
            "[31]\tvalid_0's l1: 0.281231\n",
            "[32]\tvalid_0's l1: 0.280215\n",
            "[33]\tvalid_0's l1: 0.279073\n",
            "[34]\tvalid_0's l1: 0.277804\n",
            "[35]\tvalid_0's l1: 0.276883\n",
            "[36]\tvalid_0's l1: 0.276255\n",
            "[37]\tvalid_0's l1: 0.275403\n",
            "[38]\tvalid_0's l1: 0.274503\n",
            "[39]\tvalid_0's l1: 0.273845\n",
            "[40]\tvalid_0's l1: 0.273269\n",
            "[41]\tvalid_0's l1: 0.272926\n",
            "[42]\tvalid_0's l1: 0.272349\n",
            "[43]\tvalid_0's l1: 0.272047\n",
            "[44]\tvalid_0's l1: 0.271811\n",
            "[45]\tvalid_0's l1: 0.271811\n",
            "[46]\tvalid_0's l1: 0.271811\n",
            "[47]\tvalid_0's l1: 0.271811\n",
            "[48]\tvalid_0's l1: 0.271811\n",
            "[49]\tvalid_0's l1: 0.271811\n",
            "[50]\tvalid_0's l1: 0.271811\n",
            "[51]\tvalid_0's l1: 0.271811\n",
            "[52]\tvalid_0's l1: 0.271811\n",
            "[53]\tvalid_0's l1: 0.271811\n",
            "[54]\tvalid_0's l1: 0.271811\n",
            "[55]\tvalid_0's l1: 0.271811\n",
            "[56]\tvalid_0's l1: 0.271811\n",
            "[57]\tvalid_0's l1: 0.271811\n",
            "[58]\tvalid_0's l1: 0.271811\n",
            "[59]\tvalid_0's l1: 0.271811\n",
            "[60]\tvalid_0's l1: 0.271811\n",
            "[61]\tvalid_0's l1: 0.271811\n",
            "[62]\tvalid_0's l1: 0.271811\n",
            "[63]\tvalid_0's l1: 0.271811\n",
            "[64]\tvalid_0's l1: 0.271811\n",
            "[65]\tvalid_0's l1: 0.271811\n",
            "[66]\tvalid_0's l1: 0.271811\n",
            "[67]\tvalid_0's l1: 0.271811\n",
            "[68]\tvalid_0's l1: 0.271811\n",
            "[69]\tvalid_0's l1: 0.271811\n",
            "[70]\tvalid_0's l1: 0.271811\n",
            "[71]\tvalid_0's l1: 0.271811\n",
            "[72]\tvalid_0's l1: 0.271811\n",
            "[73]\tvalid_0's l1: 0.271811\n",
            "[74]\tvalid_0's l1: 0.271811\n",
            "[75]\tvalid_0's l1: 0.271811\n",
            "[76]\tvalid_0's l1: 0.271811\n",
            "[77]\tvalid_0's l1: 0.271811\n",
            "[78]\tvalid_0's l1: 0.271811\n",
            "[79]\tvalid_0's l1: 0.271811\n",
            "[80]\tvalid_0's l1: 0.271811\n",
            "[81]\tvalid_0's l1: 0.271811\n",
            "[82]\tvalid_0's l1: 0.271811\n",
            "[83]\tvalid_0's l1: 0.271811\n",
            "[84]\tvalid_0's l1: 0.271811\n",
            "[85]\tvalid_0's l1: 0.271811\n",
            "[86]\tvalid_0's l1: 0.271811\n",
            "[87]\tvalid_0's l1: 0.271811\n",
            "[88]\tvalid_0's l1: 0.271811\n",
            "[89]\tvalid_0's l1: 0.271811\n",
            "[90]\tvalid_0's l1: 0.271811\n",
            "[91]\tvalid_0's l1: 0.271811\n",
            "[92]\tvalid_0's l1: 0.271811\n",
            "[93]\tvalid_0's l1: 0.271811\n",
            "[94]\tvalid_0's l1: 0.271811\n",
            "Early stopping, best iteration is:\n",
            "[44]\tvalid_0's l1: 0.271811\n"
          ],
          "name": "stdout"
        },
        {
          "output_type": "execute_result",
          "data": {
            "text/plain": [
              "LGBMClassifier(boosting_type='gbdt', class_weight=None, colsample_bytree=1,\n",
              "        early_stopping=50, is_enable_sparse='true', learning_rate=0.1,\n",
              "        max_bin=255, max_depth=8, min_child_samples=10, min_child_weight=5,\n",
              "        min_data_in_leaf=400, min_split_gain=5, n_estimators=100,\n",
              "        n_jobs=-1, nthread=-1, num_class=1, num_iteration=10000,\n",
              "        num_leaves=31, objective='binary', random_state=None, reg_alpha=0,\n",
              "        reg_lambda=0, seed=0, silent=True, subsample=0.995,\n",
              "        subsample_for_bin=50000, subsample_freq=1, tree_learner='data')"
            ]
          },
          "metadata": {
            "tags": []
          },
          "execution_count": 35
        }
      ]
    },
    {
      "metadata": {
        "id": "sDo4qN28YYRt",
        "colab_type": "code",
        "colab": {
          "autoexec": {
            "startup": false,
            "wait_interval": 0
          },
          "output_extras": [
            {
              "item_id": 1
            },
            {
              "item_id": 2
            }
          ],
          "base_uri": "https://localhost:8080/",
          "height": 89
        },
        "outputId": "8a76002c-21d1-430d-b640-ab5efd73f4a4",
        "executionInfo": {
          "status": "ok",
          "timestamp": 1519017340954,
          "user_tz": 300,
          "elapsed": 340,
          "user": {
            "displayName": "Rishanki Jain",
            "photoUrl": "//lh5.googleusercontent.com/-DItHz0PUQDw/AAAAAAAAAAI/AAAAAAAABZw/1564nQi-Zp4/s50-c-k-no/photo.jpg",
            "userId": "105210915059546614784"
          }
        }
      },
      "cell_type": "code",
      "source": [
        "from sklearn.metrics import mean_squared_error\n",
        "from sklearn.model_selection import GridSearchCV\n",
        "y_pred = model.predict(test, num_iteration=model.best_iteration_)\n",
        "print('The rmse of prediction is:', mean_squared_error(Churn_Y, y_pred) ** 0.5)"
      ],
      "execution_count": 36,
      "outputs": [
        {
          "output_type": "stream",
          "text": [
            "The rmse of prediction is: 0.42708180064580986\n"
          ],
          "name": "stdout"
        },
        {
          "output_type": "stream",
          "text": [
            "/usr/local/lib/python3.6/dist-packages/sklearn/preprocessing/label.py:151: DeprecationWarning: The truth value of an empty array is ambiguous. Returning False, but in future this will result in an error. Use `array.size > 0` to check that an array is not empty.\n",
            "  if diff:\n"
          ],
          "name": "stderr"
        }
      ]
    },
    {
      "metadata": {
        "id": "RvZAcnQzY7EM",
        "colab_type": "code",
        "colab": {
          "autoexec": {
            "startup": false,
            "wait_interval": 0
          },
          "output_extras": [
            {
              "item_id": 1
            }
          ],
          "base_uri": "https://localhost:8080/",
          "height": 34
        },
        "outputId": "eafa9b58-a01b-4d14-bf34-d749493ccefb",
        "executionInfo": {
          "status": "ok",
          "timestamp": 1519015821604,
          "user_tz": 300,
          "elapsed": 478,
          "user": {
            "displayName": "Rishanki Jain",
            "photoUrl": "//lh5.googleusercontent.com/-DItHz0PUQDw/AAAAAAAAAAI/AAAAAAAABZw/1564nQi-Zp4/s50-c-k-no/photo.jpg",
            "userId": "105210915059546614784"
          }
        }
      },
      "cell_type": "code",
      "source": [
        "print('Feature importances:', list(model.best_score_))\n"
      ],
      "execution_count": 24,
      "outputs": [
        {
          "output_type": "stream",
          "text": [
            "Feature importances: ['valid_0']\n"
          ],
          "name": "stdout"
        }
      ]
    },
    {
      "metadata": {
        "id": "y_X1xYGxY4Um",
        "colab_type": "code",
        "colab": {
          "autoexec": {
            "startup": false,
            "wait_interval": 0
          },
          "output_extras": [
            {
              "item_id": 2
            }
          ],
          "base_uri": "https://localhost:8080/",
          "height": 52
        },
        "outputId": "a051e3c9-e0ad-43a2-ac30-dca1965cca24",
        "executionInfo": {
          "status": "ok",
          "timestamp": 1519016838797,
          "user_tz": 300,
          "elapsed": 688765,
          "user": {
            "displayName": "Rishanki Jain",
            "photoUrl": "//lh5.googleusercontent.com/-DItHz0PUQDw/AAAAAAAAAAI/AAAAAAAABZw/1564nQi-Zp4/s50-c-k-no/photo.jpg",
            "userId": "105210915059546614784"
          }
        }
      },
      "cell_type": "code",
      "source": [
        "import lightgbm as lgb\n",
        "\n",
        "print('Feature importances:', list(model.feature_importances_))\n",
        "\n",
        "# other scikit-learn modules\n",
        "estimator = lgb.LGBMRegressor(num_leaves=31)\n",
        "\n",
        "param_grid = {\n",
        "    'learning_rate': [0.01, 0.1, 1],\n",
        "    'n_estimators': [20, 40,100,600,700],\n",
        "    'num_leaves': [31, 50,100,20,150],\n",
        "    'min_data_in_leaf': [600,300,400],\n",
        "    'max_depth':[4,6,8]\n",
        "}\n",
        "\n",
        "gbm = GridSearchCV(estimator, param_grid)\n",
        "\n",
        "gbm.fit(train, Churn_X)\n",
        "\n",
        "print('Best parameters found by grid search are:', gbm.best_params_)"
      ],
      "execution_count": 33,
      "outputs": [
        {
          "output_type": "stream",
          "text": [
            "Feature importances: [0, 0, 0, 0, 6, 7, 11, 5, 1, 9, 1, 3, 43, 11, 13, 8, 6, 55, 48]\n",
            "Best parameters found by grid search are: {'learning_rate': 0.1, 'max_depth': 8, 'min_data_in_leaf': 400, 'n_estimators': 100, 'num_leaves': 31}\n"
          ],
          "name": "stdout"
        }
      ]
    }
  ]
}